{
 "cells": [
  {
   "cell_type": "code",
   "execution_count": 1,
   "metadata": {},
   "outputs": [],
   "source": [
    "import credentials as crs\n",
    "from fyers_apiv3 import fyersModel\n",
    "import pandas as pd\n",
    "import datetime as dt\n",
    "#credentials\n",
    "# Replace these values with your actual API credentials\n",
    "client_id = crs.client_id\n",
    "secret_key = crs.secret_key\n",
    "redirect_uri = crs.redirect_uri\n",
    "with open('access.txt') as f:\n",
    "    access_token=f.read()"
   ]
  },
  {
   "cell_type": "code",
   "execution_count": 2,
   "metadata": {},
   "outputs": [],
   "source": [
    "# Initialize the FyersModel instance with your client_id, access_token, and enable async mode\n",
    "fyers = fyersModel.FyersModel(client_id=client_id, token=access_token,is_async=False, log_path=\"\")\n"
   ]
  },
  {
   "cell_type": "markdown",
   "metadata": {},
   "source": [
    "# market order"
   ]
  },
  {
   "cell_type": "code",
   "execution_count": 3,
   "metadata": {},
   "outputs": [
    {
     "name": "stdout",
     "output_type": "stream",
     "text": [
      "{'code': -99, 'message': \"RED:'MIS' Orders are disallowed after system square off\", 's': 'error', 'id': '24100300573738'}\n"
     ]
    }
   ],
   "source": [
    "data={ \"symbol\": \"NSE:HATHWAY-EQ\", \n",
    "      \"qty\": 1, \n",
    "      \"type\": 2, \n",
    "      \"side\": 1, \n",
    "      \"productType\": \"INTRADAY\", \n",
    "      \"limitPrice\": 0, \n",
    "      \"stopPrice\": 0, \n",
    "      \"validity\": \"DAY\", \n",
    "      \"stopLoss\": 0, \n",
    "      \"takeProfit\": 0, \n",
    "      \"offlineOrder\": False, \n",
    "      \"disclosedQty\": 0 }\n",
    "response1 = fyers.place_order(data=data)\n",
    "print(response1)"
   ]
  },
  {
   "cell_type": "markdown",
   "metadata": {},
   "source": [
    "# cnc order"
   ]
  },
  {
   "cell_type": "code",
   "execution_count": 4,
   "metadata": {},
   "outputs": [
    {
     "name": "stdout",
     "output_type": "stream",
     "text": [
      "{'code': -99, 'message': 'YEL:Yel not ready for transaction', 's': 'error', 'id': '24100300573907'}\n"
     ]
    }
   ],
   "source": [
    "\n",
    "data={ \"symbol\": \"NSE:YESBANK-EQ\", \n",
    "      \"qty\": 1, \n",
    "      \"type\": 2, \n",
    "      \"side\": 1, \n",
    "      \"productType\": \"CNC\", \n",
    "      \"limitPrice\": 0, \n",
    "      \"stopPrice\": 0, \n",
    "      \"validity\": \"DAY\", \n",
    "      \"stopLoss\": 0, \n",
    "      \"takeProfit\": 0, \n",
    "      \"offlineOrder\": False, \n",
    "      \"disclosedQty\": 0 }\n",
    "response1 = fyers.place_order(data=data)\n",
    "print(response1)"
   ]
  },
  {
   "cell_type": "markdown",
   "metadata": {},
   "source": [
    "# limit order"
   ]
  },
  {
   "cell_type": "code",
   "execution_count": 5,
   "metadata": {},
   "outputs": [
    {
     "name": "stdout",
     "output_type": "stream",
     "text": [
      "{'code': -99, 'message': \"RED:'MIS' Orders are disallowed after system square off\", 's': 'error', 'id': '24100300574055'}\n"
     ]
    }
   ],
   "source": [
    "data = {\n",
    "    \"symbol\":\"NSE:YESBANK-EQ\",\n",
    "    \"qty\":1,\n",
    "    \"type\":1,\n",
    "    \"side\":1,\n",
    "    \"productType\":\"INTRADAY\",\n",
    "    \"limitPrice\":20,\n",
    "    \"stopPrice\":0,\n",
    "    \"validity\":\"DAY\",\n",
    "    \"disclosedQty\":0,\n",
    "    \"offlineOrder\":False,\n",
    "    \"orderTag\":\"tag1\"\n",
    "}\n",
    "response = fyers.place_order(data=data)\n",
    "print(response)"
   ]
  },
  {
   "cell_type": "markdown",
   "metadata": {},
   "source": [
    "# stop order market"
   ]
  },
  {
   "cell_type": "code",
   "execution_count": 6,
   "metadata": {},
   "outputs": [
    {
     "name": "stdout",
     "output_type": "stream",
     "text": [
      "{'code': -99, 'message': \"RED:'MIS' Orders are disallowed after system square off\", 's': 'error', 'id': '24100300574181'}\n"
     ]
    }
   ],
   "source": [
    "data = {\n",
    "    \"symbol\":\"NSE:HATHWAY-EQ\",\n",
    "    \"qty\":1,\n",
    "    \"type\":3,\n",
    "    \"side\":-1,\n",
    "    \"productType\":\"INTRADAY\",\n",
    "    \"limitPrice\":0,\n",
    "    \"stopPrice\":22,\n",
    "    \"validity\":\"DAY\",\n",
    "    \"disclosedQty\":0,\n",
    "    \"offlineOrder\":False,\n",
    "    \"orderTag\":\"tag1\"\n",
    "}\n",
    "response3 = fyers.place_order(data=data)\n",
    "print(response3)"
   ]
  },
  {
   "cell_type": "markdown",
   "metadata": {},
   "source": [
    "# stop limit order"
   ]
  },
  {
   "cell_type": "code",
   "execution_count": 7,
   "metadata": {},
   "outputs": [
    {
     "name": "stdout",
     "output_type": "stream",
     "text": [
      "{'code': -99, 'message': \"RED:'MIS' Orders are disallowed after system square off\", 's': 'error', 'id': '24100300574258'}\n"
     ]
    }
   ],
   "source": [
    "\n",
    "data = {\n",
    "    \"symbol\":\"NSE:HATHWAY-EQ\",\n",
    "    \"qty\":1,\n",
    "    \"type\":4,\n",
    "    \"side\":-1,\n",
    "    \"productType\":\"INTRADAY\",\n",
    "    \"limitPrice\":21,\n",
    "    \"stopPrice\":22,\n",
    "    \"validity\":\"DAY\",\n",
    "    \"disclosedQty\":0,\n",
    "    \"offlineOrder\":False,\n",
    "    \"orderTag\":\"tag1\"\n",
    "}\n",
    "response3 = fyers.place_order(data=data)\n",
    "print(response3)"
   ]
  },
  {
   "cell_type": "markdown",
   "metadata": {},
   "source": [
    "# cover order"
   ]
  },
  {
   "cell_type": "code",
   "execution_count": 8,
   "metadata": {},
   "outputs": [
    {
     "name": "stdout",
     "output_type": "stream",
     "text": [
      "{'code': -99, 'message': \"RED:'CO' Orders are disallowed after system square off\", 's': 'error', 'id': '24100300574467'}\n"
     ]
    }
   ],
   "source": [
    "\n",
    "data = {\n",
    "    \"symbol\":\"NSE:ONGC-EQ\",\n",
    "    \"qty\":1,\n",
    "    \"type\":2,\n",
    "    \"side\":1,\n",
    "    \"productType\":\"CO\",\n",
    "    \"limitPrice\":0,\n",
    "    \"stopPrice\":0,\n",
    "    \"validity\":\"DAY\",\n",
    "    \"disclosedQty\":0,\n",
    "    \"offlineOrder\":False,\n",
    "    \"stopLoss\":3,\n",
    "    \"takeProfit\":0\n",
    "}\n",
    "response3 = fyers.place_order(data=data)\n",
    "print(response3)"
   ]
  },
  {
   "cell_type": "markdown",
   "metadata": {},
   "source": [
    "# bracket order"
   ]
  },
  {
   "cell_type": "code",
   "execution_count": 9,
   "metadata": {},
   "outputs": [
    {
     "name": "stdout",
     "output_type": "stream",
     "text": [
      "{'code': -99, 'message': \"RED:'BO' Orders are disallowed after system square off\", 's': 'error', 'id': '24100300574539'}\n"
     ]
    }
   ],
   "source": [
    "\n",
    "data = {\n",
    "    \"symbol\":\"NSE:NTPC-EQ\",\n",
    "    \"qty\":1,\n",
    "    \"type\":2,\n",
    "    \"side\":1,\n",
    "    \"productType\":\"BO\",\n",
    "    \"limitPrice\":0,\n",
    "    \"stopPrice\":0,\n",
    "    \"validity\":\"DAY\",\n",
    "    \"disclosedQty\":0,\n",
    "    \"offlineOrder\":False,\n",
    "    \"stopLoss\":5,\n",
    "    \"takeProfit\":5\n",
    "}\n",
    "response3 = fyers.place_order(data=data)\n",
    "print(response3)"
   ]
  },
  {
   "cell_type": "markdown",
   "metadata": {},
   "source": [
    "# braket order with limit price"
   ]
  },
  {
   "cell_type": "code",
   "execution_count": 10,
   "metadata": {},
   "outputs": [
    {
     "name": "stdout",
     "output_type": "stream",
     "text": [
      "{'code': -99, 'message': \"RED:'BO' Orders are disallowed after system square off\", 's': 'error', 'id': '24100300574539'}\n"
     ]
    }
   ],
   "source": [
    "\n",
    "data = {\n",
    "    \"symbol\":\"NSE:NTPC-EQ\",\n",
    "    \"qty\":1,\n",
    "    \"type\":1,\n",
    "    \"side\":1,\n",
    "    \"productType\":\"BO\",\n",
    "    \"limitPrice\":335,\n",
    "    \"stopPrice\":0,\n",
    "    \"validity\":\"DAY\",\n",
    "    \"disclosedQty\":0,\n",
    "    \"offlineOrder\":False,\n",
    "    \"stopLoss\":5,\n",
    "    \"takeProfit\":5\n",
    "}\n",
    "response6 = fyers.place_order(data=data)\n",
    "print(response3)"
   ]
  },
  {
   "cell_type": "markdown",
   "metadata": {},
   "source": [
    "# modify order"
   ]
  },
  {
   "cell_type": "code",
   "execution_count": 12,
   "metadata": {},
   "outputs": [
    {
     "name": "stdout",
     "output_type": "stream",
     "text": [
      "{'code': -52, 'message': 'Not a pending order', 's': 'error', 'id': '24100300574539'}\n"
     ]
    }
   ],
   "source": [
    "orderId = \"24100300574539\"\n",
    "data = {\n",
    "    \"id\":orderId, \n",
    "    \"type\":1, \n",
    "    \"limitPrice\": 332, \n",
    "    \"qty\":1\n",
    "}\n",
    "\n",
    "response = fyers.modify_order(data=data)\n",
    "print(response)"
   ]
  },
  {
   "cell_type": "markdown",
   "metadata": {},
   "source": [
    "# cancel order"
   ]
  },
  {
   "cell_type": "code",
   "execution_count": 13,
   "metadata": {},
   "outputs": [
    {
     "name": "stdout",
     "output_type": "stream",
     "text": [
      "{'code': -51, 'message': 'invalid order id: 24022300382793', 's': 'error', 'id': '24022300382793-BO-1'}\n"
     ]
    }
   ],
   "source": [
    "data = {\"id\":'24022300382793-BO-1'}\n",
    "\n",
    "responsel = fyers.cancel_order(data=data)\n",
    "print(responsel)"
   ]
  }
 ],
 "metadata": {
  "kernelspec": {
   "display_name": "Python 3",
   "language": "python",
   "name": "python3"
  },
  "language_info": {
   "codemirror_mode": {
    "name": "ipython",
    "version": 3
   },
   "file_extension": ".py",
   "mimetype": "text/x-python",
   "name": "python",
   "nbconvert_exporter": "python",
   "pygments_lexer": "ipython3",
   "version": "3.12.2"
  }
 },
 "nbformat": 4,
 "nbformat_minor": 2
}
